{
 "cells": [
  {
   "cell_type": "code",
   "execution_count": 1,
   "metadata": {},
   "outputs": [],
   "source": [
    "#  8 Queens problem with python"
   ]
  },
  {
   "cell_type": "code",
   "execution_count": null,
   "metadata": {},
   "outputs": [],
   "source": [
    "from itertools import permutations, combinations\n",
    "\n",
    "text = input('How big is your chess board?')\n",
    "n = int(text)\n",
    "x = range(1, n+1)\n",
    "\n",
    "def is_diagonal(point1, point2):\n",
    "    x1 = point1[0]\n",
    "    y1 = point1[1]\n",
    "    x2 = point2[0]\n",
    "    y2 = point2[1]\n",
    "    gradient = (y2-y1)/(x2-x1)\n",
    "    if gradient == -1 or gradient == 1:\n",
    "        return(True)\n",
    "    else:\n",
    "        return(False)\n",
    "\n",
    "list_of_permutations = []\n",
    "\n",
    "for permuation in permutations(range(1, n+1)):\n",
    "    y = permuation\n",
    "    all_permutations = list(zip(x,y))\n",
    "    list_of_permutations.append(all_permutations)\n",
    "\n",
    "for possible_solution in list_of_permutations:\n",
    "    solutions = []\n",
    "    for piece1, piece2 in combinations(possible_solution, 2):\n",
    "        solutions.append(is_diagonal(piece1, piece2))\n",
    "\n",
    "    if True not in solutions:\n",
    "        print(possible_solution)"
   ]
  },
  {
   "cell_type": "code",
   "execution_count": null,
   "metadata": {},
   "outputs": [],
   "source": []
  }
 ],
 "metadata": {
  "kernelspec": {
   "display_name": "Python 3",
   "language": "python",
   "name": "python3"
  },
  "language_info": {
   "codemirror_mode": {
    "name": "ipython",
    "version": 3
   },
   "file_extension": ".py",
   "mimetype": "text/x-python",
   "name": "python",
   "nbconvert_exporter": "python",
   "pygments_lexer": "ipython3",
   "version": "3.8.3"
  }
 },
 "nbformat": 4,
 "nbformat_minor": 4
}
